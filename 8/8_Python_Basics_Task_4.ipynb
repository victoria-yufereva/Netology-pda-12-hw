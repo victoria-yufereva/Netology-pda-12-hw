{
 "cells": [
  {
   "cell_type": "markdown",
   "metadata": {},
   "source": [
    "### Задание 4\n",
    "\n",
    "Напишите функцию, которая будет принимать на вход список email-адресов и выводить их распределение по доменным зонам.\n",
    "\n",
    "Пример работы программы:\n",
    "\n",
    "emails = ['test@gmail.com', 'xyz@test.in', 'test@ya.ru', 'xyz@mail.ru', 'xyz@ya.ru', 'xyz@gmail.com']\n",
    "\n",
    "Результат:\n",
    "\n",
    "gmail.com: 2\n",
    "test.in: 1 \n",
    "ya.ru: 2 \n",
    "mail.ru: 1"
   ]
  },
  {
   "cell_type": "code",
   "execution_count": 27,
   "metadata": {},
   "outputs": [
    {
     "name": "stdout",
     "output_type": "stream",
     "text": [
      "ya.ru: 2\n",
      "test.in: 1\n",
      "gmail.com: 2\n",
      "mail.ru: 1\n"
     ]
    }
   ],
   "source": [
    "import re\n",
    "\n",
    "def check_domain_zones_distribution(email_list):\n",
    "    email_zone_pattern = r'(?<=@)[a-z]+\\.[a-z]+'\n",
    "    domain_zone_list = []\n",
    "    counter = 0\n",
    "    # удостоверимся, что в списке только email-ы, соответсвующие шаблону email_zone_pattern\n",
    "    for email in email_list:\n",
    "        domain_zone_list = re.findall(email_zone_pattern, str(email_list))\n",
    "    # отбираем уникальные доменные зоны с помощью множеств:\n",
    "    unique_domain_zone = set(domain_zone_list)\n",
    "    # переводим обратно в список уникальных доменных зон:\n",
    "    unique_domain_zone_list = list(unique_domain_zone)\n",
    "    # считаем количество совпадений доменных зон с email-ами из заданного списка, печатаем результат итерации, обнуляем счетчик:\n",
    "    for domain_zone in unique_domain_zone_list:\n",
    "        for email in email_list:\n",
    "            if domain_zone in email:\n",
    "                counter += 1\n",
    "        print(domain_zone, ': ', counter, sep='')\n",
    "        counter = 0\n",
    "\n",
    "email_list = ['test@gmail.com', 'xyz@test.in', 'test@ya.ru', 'xyz@mail.ru', 'xyz@ya.ru', 'xyz@gmail.com']    \n",
    "check_domain_zones_distribution(email_list)"
   ]
  },
  {
   "cell_type": "code",
   "execution_count": null,
   "metadata": {},
   "outputs": [],
   "source": []
  }
 ],
 "metadata": {
  "kernelspec": {
   "display_name": "Python 3",
   "language": "python",
   "name": "python3"
  },
  "language_info": {
   "codemirror_mode": {
    "name": "ipython",
    "version": 3
   },
   "file_extension": ".py",
   "mimetype": "text/x-python",
   "name": "python",
   "nbconvert_exporter": "python",
   "pygments_lexer": "ipython3",
   "version": "3.7.6"
  }
 },
 "nbformat": 4,
 "nbformat_minor": 4
}
