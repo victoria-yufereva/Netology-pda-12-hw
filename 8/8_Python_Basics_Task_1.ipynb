{
 "cells": [
  {
   "cell_type": "markdown",
   "metadata": {},
   "source": [
    "### Задание 1\n",
    "\n",
    "Напишите функцию, которая принимает на вход строку и проверяет является ли она валидным транспортным номером (1 буква, 3 цифры, 2 буквы, 2-3 цифры). Обратите внимание, что не все буквы кириллического алфавита используются в транспортных номерах.\n",
    "\n",
    "Если номер валиден, то функция должна возвращать отдельно номер и регион.\n",
    "\n",
    "Примеры работы программы:\n",
    "\n",
    "car_id = 'АВ222С96'\n",
    "Результат: Номер АВ222С валиден. Регион: 96\n",
    "\n",
    "car_id = 'АБ22ВВ193'\n",
    "Результат: Номер не валиден"
   ]
  },
  {
   "cell_type": "code",
   "execution_count": 10,
   "metadata": {},
   "outputs": [
    {
     "name": "stdout",
     "output_type": "stream",
     "text": [
      "Введите транспортный номер: В222СА968\n",
      "Номер: В222СА Регион: 968\n"
     ]
    }
   ],
   "source": [
    "import re\n",
    "\n",
    "def check_number_plate():\n",
    "    car_id = input('Введите транспортный номер: ')\n",
    "    car_id_pattern = r'([АВЕКМНОРСТУХ]{1}\\d{3}[АВЕКМНОРСТУХ]{2})(\\d{2,3})'\n",
    "\n",
    "    result = re.findall(car_id_pattern, car_id)\n",
    "    # print(result)\n",
    "\n",
    "    if len(result) != 0 and 7 < len(car_id) <= 9:\n",
    "        print('Номер:', result[0][0], 'Регион:', result[0][1])\n",
    "    else:\n",
    "        print('Номер не валиден')\n",
    "    # В222СА96, В222СА968  - корректный номер для проверки\n",
    "    # АБ22ВВ193,В222СА9698, с787аа87 - некорректные номера для проверки\n",
    "\n",
    "check_number_plate()"
   ]
  },
  {
   "cell_type": "code",
   "execution_count": null,
   "metadata": {},
   "outputs": [],
   "source": []
  }
 ],
 "metadata": {
  "kernelspec": {
   "display_name": "Python 3",
   "language": "python",
   "name": "python3"
  },
  "language_info": {
   "codemirror_mode": {
    "name": "ipython",
    "version": 3
   },
   "file_extension": ".py",
   "mimetype": "text/x-python",
   "name": "python",
   "nbconvert_exporter": "python",
   "pygments_lexer": "ipython3",
   "version": "3.7.6"
  }
 },
 "nbformat": 4,
 "nbformat_minor": 4
}
