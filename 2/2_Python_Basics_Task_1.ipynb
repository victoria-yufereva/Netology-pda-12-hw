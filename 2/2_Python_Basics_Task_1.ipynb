{
 "cells": [
  {
   "cell_type": "markdown",
   "metadata": {},
   "source": [
    "### Задание № 1\n",
    "Дана переменная, в которой хранится слово из латинских букв. Напишите код, который выводит на экран:\n",
    "\n",
    "среднюю букву, если число букв в слове четное;\n",
    "две средних буквы, если число букв нечетное.\n",
    "Примеры работы программы:\n",
    "\n",
    "word = 'test’\n",
    "Результат:\n",
    "es\n",
    "\n",
    "word = 'testing’\n",
    "Результат:\n",
    "t"
   ]
  },
  {
   "cell_type": "code",
   "execution_count": null,
   "metadata": {},
   "outputs": [],
   "source": [
    "word = input('Введите слово: ')\n",
    "x = len(word)\n",
    "if x % 2 == 0:\n",
    "    print(word[x // 2 - 1 : x // 2])\n",
    "else:\n",
    "    print(word[x // 2])"
   ]
  }
 ],
 "metadata": {
  "kernelspec": {
   "display_name": "Python 3",
   "language": "python",
   "name": "python3"
  },
  "language_info": {
   "codemirror_mode": {
    "name": "ipython",
    "version": 3
   },
   "file_extension": ".py",
   "mimetype": "text/x-python",
   "name": "python",
   "nbconvert_exporter": "python",
   "pygments_lexer": "ipython3",
   "version": "3.7.6"
  }
 },
 "nbformat": 4,
 "nbformat_minor": 4
}
