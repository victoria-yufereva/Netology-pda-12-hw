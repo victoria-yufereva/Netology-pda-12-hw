{
 "cells": [
  {
   "cell_type": "markdown",
   "metadata": {},
   "source": [
    "### Задание № 3\n",
    "Мы делаем MVP dating-сервиса, и у нас есть список парней и девушек.\n",
    "Выдвигаем гипотезу: лучшие рекомендации мы получим, если просто отсортируем имена по алфавиту и познакомим людей с одинаковыми индексами после сортировки! Но мы не будем никого знакомить, если кто-то может остаться без пары:\n",
    "\n",
    "Примеры работы программы:\n",
    "\n",
    "boys = [‘Peter’, ‘Alex’, ‘John’, ‘Arthur’, ‘Richard’]\n",
    "girls = [‘Kate’, ‘Liza’, ‘Kira’, ‘Emma’, ‘Trisha’]\n",
    "Результат:\n",
    "\n",
    "Идеальные пары:\n",
    "Alex и Emma\n",
    "Arthur и Kate\n",
    "John и Kira\n",
    "Peter и Liza\n",
    "Richard и Trisha\n",
    "boys = [‘Peter’, ‘Alex’, ‘John’, ‘Arthur’, ‘Richard’, ‘Michael’]\n",
    "girls = [‘Kate’, ‘Liza’, ‘Kira’, ‘Emma’, ‘Trisha’]\n",
    "Результат:\n",
    "Внимание, кто-то может остаться без пары!"
   ]
  },
  {
   "cell_type": "code",
   "execution_count": 1,
   "metadata": {},
   "outputs": [
    {
     "name": "stdout",
     "output_type": "stream",
     "text": [
      "Введите имена девушек через запятую: Лена, Надя, Вика\n",
      "Введите имена парней через запятую: Женя, Гриша, Илья\n",
      "Идеальные пары:  [('Вика', 'Гриша'), ('Лена', 'Женя'), ('Надя', 'Илья')]\n"
     ]
    }
   ],
   "source": [
    "girls = input('Введите имена девушек через запятую: ')\n",
    "boys = input('Введите имена парней через запятую: ')\n",
    "girls_list = girls.split(', ')\n",
    "boys_list = boys.split(', ')\n",
    "girls_list.sort()\n",
    "boys_list.sort()\n",
    "couples = zip(girls_list, boys_list)\n",
    "couples_list = list(couples)\n",
    "if len(girls_list) == len(boys_list):\n",
    "    print('Идеальные пары: ', couples_list)\n",
    "else:\n",
    "    print('Внимание, кто-то может остаться без пары!')"
   ]
  }
 ],
 "metadata": {
  "kernelspec": {
   "display_name": "Python 3",
   "language": "python",
   "name": "python3"
  },
  "language_info": {
   "codemirror_mode": {
    "name": "ipython",
    "version": 3
   },
   "file_extension": ".py",
   "mimetype": "text/x-python",
   "name": "python",
   "nbconvert_exporter": "python",
   "pygments_lexer": "ipython3",
   "version": "3.7.6"
  }
 },
 "nbformat": 4,
 "nbformat_minor": 4
}
