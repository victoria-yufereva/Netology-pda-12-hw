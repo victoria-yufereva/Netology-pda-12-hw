{
 "cells": [
  {
   "cell_type": "markdown",
   "metadata": {},
   "source": [
    "### Задание № 5\n",
    "Дан поток логов по количеству просмотренных страниц для каждого пользователя. Вам необходимо написать алгоритм, который считает среднее значение просмотров на пользователя. Т. е. надо посчитать отношение суммы всех просмотров к количеству уникальных пользователей.\n",
    "\n",
    "Примеры работы программы:\n",
    "\n",
    "stream = [\n",
    "‘2018-01-01,user1,3’,\n",
    "‘2018-01-07,user1,4’,\n",
    "‘2018-03-29,user1,1’,\n",
    "‘2018-04-04,user1,13’,\n",
    "‘2018-01-05,user2,7’,\n",
    "‘2018-06-14,user3,4’,\n",
    "‘2018-07-02,user3,10’,\n",
    "‘2018-03-21,user4,19’,\n",
    "‘2018-03-22,user4,4’,\n",
    "‘2018-04-22,user4,8’,\n",
    "‘2018-05-03,user4,9’,\n",
    "‘2018-05-11,user4,11’,\n",
    "]\n",
    "Результат:\n",
    "Среднее количество просмотров на уникального пользователя: 23.25\n",
    "\n",
    "stream = [\n",
    "‘2018-01-01,user100,150’,\n",
    "‘2018-01-07,user99,205’,\n",
    "‘2018-03-29,user1001,81’\n",
    "]\n",
    "Результат:\n",
    "Среднее количество просмотров на уникального пользователя: 145.33"
   ]
  },
  {
   "cell_type": "code",
   "execution_count": 55,
   "metadata": {},
   "outputs": [
    {
     "ename": "TypeError",
     "evalue": "unsupported operand type(s) for +: 'int' and 'str'",
     "output_type": "error",
     "traceback": [
      "\u001b[1;31m---------------------------------------------------------------------------\u001b[0m",
      "\u001b[1;31mTypeError\u001b[0m                                 Traceback (most recent call last)",
      "\u001b[1;32m<ipython-input-55-6b9d85d18eaa>\u001b[0m in \u001b[0;36m<module>\u001b[1;34m\u001b[0m\n\u001b[0;32m     26\u001b[0m \u001b[1;31m# для просмотра print(views)\u001b[0m\u001b[1;33m\u001b[0m\u001b[1;33m\u001b[0m\u001b[1;33m\u001b[0m\u001b[0m\n\u001b[0;32m     27\u001b[0m \u001b[1;31m# считаю общее количество просмотров:\u001b[0m\u001b[1;33m\u001b[0m\u001b[1;33m\u001b[0m\u001b[1;33m\u001b[0m\u001b[0m\n\u001b[1;32m---> 28\u001b[1;33m \u001b[0mtotal_views\u001b[0m \u001b[1;33m=\u001b[0m \u001b[0msum\u001b[0m\u001b[1;33m(\u001b[0m\u001b[0mviews\u001b[0m\u001b[1;33m)\u001b[0m\u001b[1;33m\u001b[0m\u001b[1;33m\u001b[0m\u001b[0m\n\u001b[0m\u001b[0;32m     29\u001b[0m \u001b[1;31m# здесь загвоздка - не получается посчитать общее количество, не понимаю, почему.\u001b[0m\u001b[1;33m\u001b[0m\u001b[1;33m\u001b[0m\u001b[1;33m\u001b[0m\u001b[0m\n\u001b[0;32m     30\u001b[0m \u001b[1;31m# Пытаюсь использовать sum(views) - unsupported operand type(s) for +: 'int' and 'str' ничего не понимаю\u001b[0m\u001b[1;33m\u001b[0m\u001b[1;33m\u001b[0m\u001b[1;33m\u001b[0m\u001b[0m\n",
      "\u001b[1;31mTypeError\u001b[0m: unsupported operand type(s) for +: 'int' and 'str'"
     ]
    }
   ],
   "source": [
    "stream = ['2018-01-01,user1,3', '2018-01-07,user1,4', '2018-03-29,user1,1', '2018-04-04,user1,13', '2018-01-05,user2,7', '2018-06-14,user3,4', '2018-07-02,user3,10', '2018-03-21,user4,19', '2018-03-22,user4,4', '2018-04-22,user4,8', '2018-05-03,user4,9', '2018-05-11,user4,11']\n",
    "logs_list = ','.join(stream).split(',')\n",
    "# собираю данные об пользователях в один список:\n",
    "x = 1\n",
    "users = []\n",
    "while x < len(logs_list):\n",
    "    users.append(logs_list[x])\n",
    "    x += 3\n",
    "# для просмотра print(users)\n",
    "# удаляю повторяющихся пользователей из копии списка:\n",
    "import copy\n",
    "unique_users = copy.copy(users)\n",
    "y = 0\n",
    "while y < len(unique_users):\n",
    "    while unique_users.count(unique_users[y]) > 1:\n",
    "        unique_users.remove(unique_users[y])\n",
    "        continue\n",
    "    y += 1     \n",
    "# для просмотра print(unique_users)\n",
    "# собираю все данные о количестве просмотров в один список с помощью цикла:\n",
    "x = 2\n",
    "views = []\n",
    "while x < len(logs_list):\n",
    "    views.append(logs_list[x])\n",
    "    x += 3\n",
    "# для просмотра print(views)\n",
    "# считаю общее количество просмотров:\n",
    "total_views = sum(views)\n",
    "# здесь загвоздка - не получается посчитать общее количество, не понимаю, почему. \n",
    "# Пытаюсь использовать sum(views) - unsupported operand type(s) for +: 'int' and 'str' ничего не понимаю \n",
    "# Дальше дело не идет\n",
    "# вот так я собиралась посчитать среднее количество просмотров:\n",
    "mid_views = total_views / len(unique_users)\n",
    "print('Среднее количество просмотров на уникального пользователя: ', mid_views)"
   ]
  },
  {
   "cell_type": "code",
   "execution_count": null,
   "metadata": {},
   "outputs": [],
   "source": []
  }
 ],
 "metadata": {
  "kernelspec": {
   "display_name": "Python 3",
   "language": "python",
   "name": "python3"
  },
  "language_info": {
   "codemirror_mode": {
    "name": "ipython",
    "version": 3
   },
   "file_extension": ".py",
   "mimetype": "text/x-python",
   "name": "python",
   "nbconvert_exporter": "python",
   "pygments_lexer": "ipython3",
   "version": "3.7.6"
  }
 },
 "nbformat": 4,
 "nbformat_minor": 4
}
