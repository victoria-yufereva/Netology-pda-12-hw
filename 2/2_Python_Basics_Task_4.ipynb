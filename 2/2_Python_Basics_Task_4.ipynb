{
 "cells": [
  {
   "cell_type": "markdown",
   "metadata": {},
   "source": [
    "### Задание № 4\n",
    "У нас есть список, содержащий информацию о среднедневной температуре в Фаренгейтах за произвольный период по странам (структура данных в примере). Необходимо написать код, который рассчитает среднюю температуру за период в Цельсиях(!) для каждой страны.\n",
    "\n",
    "Пример работы программы:\n",
    "\n",
    "countries_temperature = [\n",
    "[‘Thailand’, [75.2, 77, 78.8, 73.4, 68, 75.2, 77]],\n",
    "[‘Germany’, [57.2, 55.4, 59, 59, 53.6]],\n",
    "[‘Russia’, [35.6, 37.4, 39.2, 41, 42.8, 39.2, 35.6]],\n",
    "[‘Poland’, [50, 50, 53.6, 57.2, 55.4, 55.4]]\n",
    "]\n",
    "Результат:\n",
    "\n",
    "Средняя температура в странах:\n",
    "Thailand - 23.9 С\n",
    "Germany - 13.8 С\n",
    "Russia - 3.7 С\n",
    "Poland - 12.0 С"
   ]
  },
  {
   "cell_type": "code",
   "execution_count": 1,
   "metadata": {},
   "outputs": [
    {
     "name": "stdout",
     "output_type": "stream",
     "text": [
      "Средняя температура в странах:  Thailand -  23.857142857142858 C, Germany -  13.8 C, Russia -  3.7142857142857144 C, Poland -  11.972222222222221 C\n"
     ]
    }
   ],
   "source": [
    "countries_temperature = [['Thailand', [75.2, 77, 78.8, 73.4, 68, 75.2, 77]], ['Germany', [57.2, 55.4, 59, 59, 53.6]], ['Russia', [35.6, 37.4, 39.2, 41, 42.8, 39.2, 35.6]], ['Poland', [50, 50, 53.3, 57.2, 55.4, 55.4]]]\n",
    "thailand_tem = countries_temperature[0][1] \n",
    "germany_tem = countries_temperature[1][1]\n",
    "russia_tem = countries_temperature[2][1]\n",
    "poland_tem = countries_temperature[3][1]\n",
    "a = 0\n",
    "for element in thailand_tem:\n",
    "    element = (element - 32) / 1.8\n",
    "    a += element\n",
    "a_tem_c = a / len(thailand_tem)\n",
    "b = 0\n",
    "for element in germany_tem:\n",
    "    element = (element - 32) / 1.8\n",
    "    b += element\n",
    "b_tem_c = b / len(germany_tem)\n",
    "c = 0\n",
    "for element in russia_tem:\n",
    "    element = (element - 32) / 1.8\n",
    "    c += element\n",
    "c_tem_c = c / len(russia_tem)\n",
    "d = 0\n",
    "for element in poland_tem:\n",
    "    element = (element - 32) / 1.8\n",
    "    d += element\n",
    "d_tem_c = d / len(poland_tem)\n",
    "print('Средняя температура в странах: ', 'Thailand - ', a_tem_c, 'C,','Germany - ', b_tem_c, 'C,', 'Russia - ', c_tem_c, 'C,', 'Poland - ', d_tem_c, 'C')"
   ]
  },
  {
   "cell_type": "code",
   "execution_count": null,
   "metadata": {},
   "outputs": [],
   "source": []
  }
 ],
 "metadata": {
  "kernelspec": {
   "display_name": "Python 3",
   "language": "python",
   "name": "python3"
  },
  "language_info": {
   "codemirror_mode": {
    "name": "ipython",
    "version": 3
   },
   "file_extension": ".py",
   "mimetype": "text/x-python",
   "name": "python",
   "nbconvert_exporter": "python",
   "pygments_lexer": "ipython3",
   "version": "3.7.6"
  }
 },
 "nbformat": 4,
 "nbformat_minor": 4
}
