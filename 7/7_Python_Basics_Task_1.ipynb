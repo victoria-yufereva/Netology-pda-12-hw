{
 "cells": [
  {
   "cell_type": "markdown",
   "metadata": {},
   "source": [
    "### Задание 1\n",
    "\n",
    "Напишите функцию, которая возвращает название валюты (поле ‘Name’) с максимальным значением курса с помощью сервиса https://www.cbr-xml-daily.ru/daily_json.js"
   ]
  },
  {
   "cell_type": "code",
   "execution_count": 25,
   "metadata": {},
   "outputs": [
    {
     "name": "stdout",
     "output_type": "stream",
     "text": [
      "СДР (специальные права заимствования) : 104.0381\n"
     ]
    }
   ],
   "source": [
    "import requests\n",
    "full_data = requests.get('https://www.cbr-xml-daily.ru/daily_json.js').json()\n",
    "# print(list(full_data['Valute'].values()))\n",
    "\n",
    "def find_the_most_valuable_currency():\n",
    "    \"\"\"\"\n",
    "    Функция получает на вход файл json с информацией о валюте с сервиса https://www.cbr-xml-daily.ru\n",
    "    и ищет в представленном списке валют валюту с максимальным значением курса. \n",
    "    Выводит название валюты и ее значение по состоянию на сегодняшний день.\n",
    "    \n",
    "    \"\"\"\n",
    "    currency_value = 0\n",
    "\n",
    "    for details in list(full_data['Valute'].values()):\n",
    "        if details['Value'] > currency_value:\n",
    "            currency_value = details['Value']\n",
    "            the_most_valuable_currency = details['Name']\n",
    "    print(the_most_valuable_currency,\":\", currency_value)\n",
    "\n",
    "find_the_most_valuable_currency()"
   ]
  }
 ],
 "metadata": {
  "kernelspec": {
   "display_name": "Python 3",
   "language": "python",
   "name": "python3"
  },
  "language_info": {
   "codemirror_mode": {
    "name": "ipython",
    "version": 3
   },
   "file_extension": ".py",
   "mimetype": "text/x-python",
   "name": "python",
   "nbconvert_exporter": "python",
   "pygments_lexer": "ipython3",
   "version": "3.7.6"
  }
 },
 "nbformat": 4,
 "nbformat_minor": 4
}
