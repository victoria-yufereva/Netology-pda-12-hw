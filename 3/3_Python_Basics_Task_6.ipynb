{
 "cells": [
  {
   "cell_type": "markdown",
   "metadata": {},
   "source": [
    "### Задание № 6\n",
    "Дана книга рецептов с информацией о том, сколько ингредиентов нужно для приготовления блюда в расчете на одну порцию (пример данных представлен ниже).\n",
    "Напишите программу, которая будет запрашивать у пользователя количество порций для приготовления этих блюд и отображать информацию о суммарном количестве требуемых ингредиентов в указанном виде.\n",
    "\n",
    "Пример работы программы:\n",
    "\n",
    "cook_book = {\n",
    "‘салат’: [\n",
    "{‘ingridient_name’: ‘сыр’, ‘quantity’: 50, ‘measure’: ‘гр’},\n",
    "{‘ingridient_name’: ‘томаты’, ‘quantity’: 20, ‘measure’: ‘гр’},\n",
    "{‘ingridient_name’: ‘огурцы’, ‘quantity’: 20, ‘measure’: ‘гр’},\n",
    "{‘ingridient_name’: ‘маслины’, ‘quantity’: 10, ‘measure’: ‘гр’},\n",
    "{‘ingridient_name’: ‘оливковое масло’, ‘quantity’: 20, ‘measure’: ‘мл’},\n",
    "{‘ingridient_name’: ‘салат’, ‘quantity’: 10, ‘measure’: ‘гр’},\n",
    "{‘ingridient_name’: ‘перец’, ‘quantity’: 20, ‘measure’: ‘гр’}\n",
    "],\n",
    "‘пицца’: [\n",
    "{‘ingridient_name’: ‘сыр’, ‘quantity’: 20, ‘measure’: ‘гр’},\n",
    "{‘ingridient_name’: ‘колбаса’, ‘quantity’: 30, ‘measure’: ‘гр’},\n",
    "{‘ingridient_name’: ‘бекон’, ‘quantity’: 30, ‘measure’: ‘гр’},\n",
    "{‘ingridient_name’: ‘оливки’, ‘quantity’: 10, ‘measure’: ‘гр’},\n",
    "{‘ingridient_name’: ‘томаты’, ‘quantity’: 20, ‘measure’: ‘гр’},\n",
    "{‘ingridient_name’: ‘тесто’, ‘quantity’: 100, ‘measure’: ‘гр’},\n",
    "],\n",
    "‘лимонад’: [\n",
    "{‘ingridient_name’: ‘лимон’, ‘quantity’: 1, ‘measure’: ‘шт’},\n",
    "{‘ingridient_name’: ‘вода’, ‘quantity’: 200, ‘measure’: ‘мл’},\n",
    "{‘ingridient_name’: ‘сахар’, ‘quantity’: 10, ‘measure’: ‘гр’},\n",
    "{‘ingridient_name’: ‘лайм’, ‘quantity’: 20, ‘measure’: ‘гр’},\n",
    "]\n",
    "}\n",
    "\n",
    "Введите количество порций:\n",
    "3\n",
    "Результат:\n",
    "\n",
    "Сыр: 210 гр\n",
    "Томаты: 6 шт\n",
    "Огурцы: 60 гр\n",
    "Маслины: 30 гр\n",
    "Оливковое Масло: 60 мл\n",
    "Салат: 30 гр\n",
    "Перец: 60 гр\n",
    "Колбаса: 90 гр\n",
    "Бекон: 90 гр\n",
    "Оливки: 30 гр\n",
    "Томаты: 60 гр\n",
    "Тесто: 300 гр\n",
    "Лимон: 3 шт\n",
    "Вода: 600 мл\n",
    "Сахар: 30 гр\n",
    "Лайм: 60 гр"
   ]
  },
  {
   "cell_type": "code",
   "execution_count": 30,
   "metadata": {},
   "outputs": [
    {
     "name": "stdout",
     "output_type": "stream",
     "text": [
      "Введите количество порций: 4\n",
      "Сыр: 200 гр\n",
      "Томаты: 80 гр\n",
      "Огурцы: 80 гр\n",
      "Маслины: 40 гр\n",
      "Оливковое масло: 80 мл\n",
      "Салат: 40 гр\n",
      "Перец: 80 гр\n",
      "Сыр: 80 гр\n",
      "Колбаса: 120 гр\n",
      "Бекон: 120 гр\n",
      "Оливки: 40 гр\n",
      "Томаты: 80 гр\n",
      "Тесто: 400 гр\n",
      "Лимон: 4 шт\n",
      "Вода: 800 мл\n",
      "Сахар: 40 гр\n",
      "Лайм: 80 гр\n"
     ]
    }
   ],
   "source": [
    "cook_book = {'салат': [ {'ingridient_name': 'сыр', 'quantity': 50, 'measure': 'гр'}, \n",
    "                       {'ingridient_name': 'томаты', 'quantity': 20, 'measure': 'гр'}, \n",
    "                       {'ingridient_name': 'огурцы', 'quantity': 20, 'measure': 'гр'}, \n",
    "                       {'ingridient_name': 'маслины', 'quantity': 10, 'measure': 'гр'}, \n",
    "                       {'ingridient_name': 'оливковое масло', 'quantity': 20, 'measure': 'мл'}, \n",
    "                       {'ingridient_name': 'салат', 'quantity': 10, 'measure': 'гр'}, \n",
    "                       {'ingridient_name': 'перец', 'quantity': 20, 'measure': 'гр'} ], \n",
    "             'пицца': [ {'ingridient_name': 'сыр', 'quantity': 20, 'measure': 'гр'}, \n",
    "                       {'ingridient_name': 'колбаса', 'quantity': 30, 'measure': 'гр'}, \n",
    "                       {'ingridient_name': 'бекон', 'quantity': 30, 'measure': 'гр'}, \n",
    "                       {'ingridient_name': 'оливки', 'quantity': 10, 'measure': 'гр'}, \n",
    "                       {'ingridient_name': 'томаты', 'quantity': 20, 'measure': 'гр'}, \n",
    "                       {'ingridient_name': 'тесто', 'quantity': 100, 'measure': 'гр'}, ], \n",
    "             'лимонад': [ {'ingridient_name': 'лимон', 'quantity': 1, 'measure': 'шт'}, \n",
    "                         {'ingridient_name': 'вода', 'quantity': 200, 'measure': 'мл'}, \n",
    "                         {'ingridient_name': 'сахар', 'quantity': 10, 'measure': 'гр'}, \n",
    "                         {'ingridient_name': 'лайм', 'quantity': 20, 'measure': 'гр'}, ] \n",
    "            }\n",
    "portions = int(input('Введите количество порций: '))\n",
    "for dish, ingr in cook_book.items():\n",
    "    for el in ingr:\n",
    "        print(f'{el[\"ingridient_name\"].capitalize()}: {el[\"quantity\"] * portions} {el[\"measure\"]}')"
   ]
  }
 ],
 "metadata": {
  "kernelspec": {
   "display_name": "Python 3",
   "language": "python",
   "name": "python3"
  },
  "language_info": {
   "codemirror_mode": {
    "name": "ipython",
    "version": 3
   },
   "file_extension": ".py",
   "mimetype": "text/x-python",
   "name": "python",
   "nbconvert_exporter": "python",
   "pygments_lexer": "ipython3",
   "version": "3.7.6"
  }
 },
 "nbformat": 4,
 "nbformat_minor": 4
}
