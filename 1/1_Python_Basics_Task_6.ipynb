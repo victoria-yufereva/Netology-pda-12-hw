{
 "cells": [
  {
   "cell_type": "markdown",
   "metadata": {},
   "source": [
    "### Задание № 6\n",
    "Напишите программу, которая сможет вычислять площади трех фигур (круг, треугольник и прямоугольник). Тип фигуры запрашиваем через пользовательский ввод, после чего делаем запрос характеристик фигуры:\n",
    "\n",
    "если пользователь выбрал круг, запрашиваем его радиус,\n",
    "если треугольник – длины трех его сторон;\n",
    "если прямоугольник – длины двух его сторон.\n",
    "Пример работы программы:\n",
    "\n",
    "Введите тип фигуры:\n",
    "Круг\n",
    "\n",
    "Введите радиус круга:\n",
    "10\n",
    "Результат:\n",
    "Площадь круга: 314.16\n",
    "\n",
    "Введите тип фигуры:\n",
    "Треугольник\n",
    "\n",
    "Введите длину стороны A:\n",
    "2\n",
    "\n",
    "Введите длину стороны B:\n",
    "2\n",
    "\n",
    "Введите длину стороны C:\n",
    "3\n",
    "Результат:\n",
    "Площадь треугольника: 1.98"
   ]
  },
  {
   "cell_type": "code",
   "execution_count": 1,
   "metadata": {
    "scrolled": true
   },
   "outputs": [
    {
     "name": "stdout",
     "output_type": "stream",
     "text": [
      "Фигура: Треугольник\n",
      "Введите длину стороны A: 2\n",
      "Введите длину стороны B: 2\n",
      "Введите длину стороны C: 3\n",
      "1.984313483298443\n"
     ]
    }
   ],
   "source": [
    "shape = str(input('Фигура: '))\n",
    "if shape == 'Круг':\n",
    "    radius = int(input('Введите радиус круга: '))\n",
    "    sq_circle = (radius ** 2) * 3,14\n",
    "    print(sq_circle)\n",
    "elif shape == 'Треугольник':\n",
    "    a_side = int(input('Введите длину стороны A: '))\n",
    "    b_side = int(input('Введите длину стороны B: '))\n",
    "    c_side = int(input('Введите длину стороны C: '))\n",
    "    p = (a_side + b_side + c_side) / 2\n",
    "    sq_triangle = (p * (p - a_side) * (p - b_side) * (p - c_side)) ** 0.5\n",
    "    print(sq_triangle)\n",
    "elif shape == 'Прямоугольник' or shape == 'Квадрат':\n",
    "    a_r_side = int(input('Введите длину стороны A: '))\n",
    "    b_r_side = int(input('Введите длину стороны B: '))\n",
    "    sq_rectangle = a_r_side * b_r_side\n",
    "    print(sq_rectangle)\n"
   ]
  }
 ],
 "metadata": {
  "kernelspec": {
   "display_name": "Python 3",
   "language": "python",
   "name": "python3"
  },
  "language_info": {
   "codemirror_mode": {
    "name": "ipython",
    "version": 3
   },
   "file_extension": ".py",
   "mimetype": "text/x-python",
   "name": "python",
   "nbconvert_exporter": "python",
   "pygments_lexer": "ipython3",
   "version": "3.7.6"
  }
 },
 "nbformat": 4,
 "nbformat_minor": 4
}
