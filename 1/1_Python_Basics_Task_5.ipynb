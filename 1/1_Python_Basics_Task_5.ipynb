{
 "cells": [
  {
   "cell_type": "markdown",
   "metadata": {},
   "source": [
    "### Задание № 5\n",
    "Дана переменная, в которой хранится шестизначное число (номер проездного билета). Напишите программу, которая будет определять, является ли данный билет “счастливым”. Билет считается счастливым, если сумма первых трех цифр совпадает с суммой последних трех цифр номера.\n",
    "\n",
    "Примеры работы программы:\n",
    "\n",
    "number = 123456\n",
    "Результат:\n",
    "Неасчастливый билет\n",
    "\n",
    "number = 123321\n",
    "Результат:\n",
    "Счастливый билет"
   ]
  },
  {
   "cell_type": "code",
   "execution_count": 4,
   "metadata": {},
   "outputs": [
    {
     "name": "stdout",
     "output_type": "stream",
     "text": [
      "Номер билета: 123321\n",
      "Счастливый билет\n"
     ]
    }
   ],
   "source": [
    "number = int(input('Номер билета: '))\n",
    "first_set = number // 1000\n",
    "second_set = number % 1000\n",
    "fs = first_set\n",
    "ss = second_set\n",
    "first_sum = (fs // 100) + (fs % 10) + (fs % 100) // 10\n",
    "second_sum = (ss // 100) + (ss % 10) + (ss % 100) // 10\n",
    "if first_sum == second_sum:\n",
    "    print('Счастливый билет')\n",
    "else:\n",
    "    print('Несчастливый билет')\n"
   ]
  },
  {
   "cell_type": "code",
   "execution_count": null,
   "metadata": {},
   "outputs": [],
   "source": []
  }
 ],
 "metadata": {
  "kernelspec": {
   "display_name": "Python 3",
   "language": "python",
   "name": "python3"
  },
  "language_info": {
   "codemirror_mode": {
    "name": "ipython",
    "version": 3
   },
   "file_extension": ".py",
   "mimetype": "text/x-python",
   "name": "python",
   "nbconvert_exporter": "python",
   "pygments_lexer": "ipython3",
   "version": "3.7.6"
  }
 },
 "nbformat": 4,
 "nbformat_minor": 4
}
