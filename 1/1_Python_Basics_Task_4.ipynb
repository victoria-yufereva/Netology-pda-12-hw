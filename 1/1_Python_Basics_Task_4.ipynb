{
 "cells": [
  {
   "cell_type": "markdown",
   "metadata": {},
   "source": [
    "### Задание № 4\n",
    "Вам нужно написать программу для подбора упаковок по размерам товара. Размеры хранятся в переменных (в сантиметрах):\n",
    "\n",
    "width = 10\n",
    "length = 205\n",
    "height = 5\n",
    "Используйте следующие правила:\n",
    "\n",
    "если каждое из трех измерений менее 15 сантиметров, то выведите на экран “Коробка №1”;\n",
    "если хотя бы одно из измерений больше 15 сантиметров, но менее 50 сантиметров, то выводите “Коробка №2”;\n",
    "если длина товара больше 2 метров, то выводите “Упаковка для лыж”;\n",
    "во всех остальных случаях выводите “Стандартная коробка №3”."
   ]
  },
  {
   "cell_type": "code",
   "execution_count": null,
   "metadata": {},
   "outputs": [],
   "source": [
    "width = int(input('Ширина: '))\n",
    "length = int(input('Длина: '))\n",
    "height = int(input('Высота: '))\n",
    "w = width\n",
    "l = length\n",
    "h = height\n",
    "if w < 15 and l < 15 and h < 15:\n",
    "    print('Коробка №1')\n",
    "elif 50 > w > 15 or  50 > l > 15 or 50 > h > 15:\n",
    "    print('Коробка №2')\n",
    "elif l > 200:\n",
    "    print('Упаковска для лыж')\n",
    "else:\n",
    "    print('Стандартная коробка №3')\n"
   ]
  }
 ],
 "metadata": {
  "kernelspec": {
   "display_name": "Python 3",
   "language": "python",
   "name": "python3"
  },
  "language_info": {
   "codemirror_mode": {
    "name": "ipython",
    "version": 3
   },
   "file_extension": ".py",
   "mimetype": "text/x-python",
   "name": "python",
   "nbconvert_exporter": "python",
   "pygments_lexer": "ipython3",
   "version": "3.7.6"
  }
 },
 "nbformat": 4,
 "nbformat_minor": 4
}
