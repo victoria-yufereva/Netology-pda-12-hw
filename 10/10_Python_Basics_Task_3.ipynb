{
 "cells": [
  {
   "cell_type": "markdown",
   "metadata": {},
   "source": [
    "### Задание 3\n",
    "\n",
    "Выберите страницу любого сайта с табличными данными. Импортируйте таблицы в pandas dataframe.\n",
    "Примеры страниц (необязательно брать именно эти):\n",
    "https://fortrader.org/quotes\n",
    "https://www.finanz.ru/valyuty/v-realnom-vremeni"
   ]
  },
  {
   "cell_type": "code",
   "execution_count": 4,
   "metadata": {},
   "outputs": [
    {
     "data": {
      "text/html": [
       "<div>\n",
       "<style scoped>\n",
       "    .dataframe tbody tr th:only-of-type {\n",
       "        vertical-align: middle;\n",
       "    }\n",
       "\n",
       "    .dataframe tbody tr th {\n",
       "        vertical-align: top;\n",
       "    }\n",
       "\n",
       "    .dataframe thead th {\n",
       "        text-align: right;\n",
       "    }\n",
       "</style>\n",
       "<table border=\"1\" class=\"dataframe\">\n",
       "  <thead>\n",
       "    <tr style=\"text-align: right;\">\n",
       "      <th></th>\n",
       "      <th>0</th>\n",
       "      <th>1</th>\n",
       "      <th>2</th>\n",
       "      <th>3</th>\n",
       "    </tr>\n",
       "  </thead>\n",
       "  <tbody>\n",
       "    <tr>\n",
       "      <th>0</th>\n",
       "      <td>Таблица времен Simple</td>\n",
       "      <td>Таблица времен Simple</td>\n",
       "      <td>Таблица времен Simple</td>\n",
       "      <td>Таблица времен Simple</td>\n",
       "    </tr>\n",
       "    <tr>\n",
       "      <th>1</th>\n",
       "      <td>NaN</td>\n",
       "      <td>Past Simple</td>\n",
       "      <td>Present Simple</td>\n",
       "      <td>Future Simple</td>\n",
       "    </tr>\n",
       "    <tr>\n",
       "      <th>2</th>\n",
       "      <td>Глагол</td>\n",
       "      <td>did</td>\n",
       "      <td>do/does</td>\n",
       "      <td>will/shall</td>\n",
       "    </tr>\n",
       "    <tr>\n",
       "      <th>3</th>\n",
       "      <td>Окончание</td>\n",
       "      <td>-ed / V2</td>\n",
       "      <td>- / -s</td>\n",
       "      <td>-</td>\n",
       "    </tr>\n",
       "    <tr>\n",
       "      <th>4</th>\n",
       "      <td>Примеры</td>\n",
       "      <td>I worked. He wrote.</td>\n",
       "      <td>I work. He writes.</td>\n",
       "      <td>I will work. He will write.</td>\n",
       "    </tr>\n",
       "  </tbody>\n",
       "</table>\n",
       "</div>"
      ],
      "text/plain": [
       "                       0                      1                      2  \\\n",
       "0  Таблица времен Simple  Таблица времен Simple  Таблица времен Simple   \n",
       "1                    NaN            Past Simple         Present Simple   \n",
       "2                 Глагол                    did                do/does   \n",
       "3              Окончание               -ed / V2                 - / -s   \n",
       "4                Примеры    I worked. He wrote.     I work. He writes.   \n",
       "\n",
       "                             3  \n",
       "0        Таблица времен Simple  \n",
       "1                Future Simple  \n",
       "2                   will/shall  \n",
       "3                            -  \n",
       "4  I will work. He will write.  "
      ]
     },
     "execution_count": 4,
     "metadata": {},
     "output_type": "execute_result"
    }
   ],
   "source": [
    "import pandas as pd\n",
    "\n",
    "page_url = 'https://www.englishdom.com/blog/vse-vremena-anglijskogo-yazyka/'\n",
    "# attrs = {'class': 'ed-table js-ed-table', encoding = 'utf-8'} \n",
    "\n",
    "df = pd.read_html(page_url, attrs = {'class': 'ed-table js-ed-table'}, encoding = 'utf-8')\n",
    "\n",
    "df[0]"
   ]
  },
  {
   "cell_type": "code",
   "execution_count": null,
   "metadata": {},
   "outputs": [],
   "source": []
  }
 ],
 "metadata": {
  "kernelspec": {
   "display_name": "Python 3",
   "language": "python",
   "name": "python3"
  },
  "language_info": {
   "codemirror_mode": {
    "name": "ipython",
    "version": 3
   },
   "file_extension": ".py",
   "mimetype": "text/x-python",
   "name": "python",
   "nbconvert_exporter": "python",
   "pygments_lexer": "ipython3",
   "version": "3.7.6"
  }
 },
 "nbformat": 4,
 "nbformat_minor": 4
}
