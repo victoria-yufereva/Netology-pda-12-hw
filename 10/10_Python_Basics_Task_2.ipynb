{
 "cells": [
  {
   "cell_type": "markdown",
   "metadata": {},
   "source": [
    "### Задание 2\n",
    "\n",
    "По данным файла power.csv посчитайте суммарное потребление стран Прибалтики (Латвия, Литва и Эстония) категорий 4, 12 и 21 за период с 2005 по 2010 года. Не учитывайте в расчетах отрицательные значения quantity.\n"
   ]
  },
  {
   "cell_type": "code",
   "execution_count": 31,
   "metadata": {},
   "outputs": [
    {
     "data": {
      "text/plain": [
       "240580.0"
      ]
     },
     "execution_count": 31,
     "metadata": {},
     "output_type": "execute_result"
    }
   ],
   "source": [
    "import pandas as pd\n",
    "\n",
    "data = pd.read_csv('power.csv')\n",
    "# создаем фильтр на страны\n",
    "baltic_countries = data[(data['country'] == 'Latvia')|(data['country'] == 'Lithuania')|(data['country'] == 'Estonia')]\n",
    "# создаем фильтр на категории\n",
    "selected_category_info = baltic_countries[(baltic_countries['category'] == 4)|\n",
    "                                 (baltic_countries['category'] == 12)|\n",
    "                                 (baltic_countries['category'] == 21)]\n",
    "# создаем фильтр на год\n",
    "selected_category_and_year_info = selected_category_info[(selected_category_info['year'] >= 2005)&\n",
    "                                                         (selected_category_info['year'] <= 2010)]\n",
    "# создаем фильтр на значения quantity > 0\n",
    "selected_quantity_info = selected_category_and_year_info[(selected_category_and_year_info['quantity'] >= 0)]\n",
    "#selected_quantity_info.head(30)\n",
    "# считаем сумму значений столбца quantity (т.е.суммарное потребление стран Прибалтики)\n",
    "selected_quantity_info['quantity'].sum()"
   ]
  },
  {
   "cell_type": "code",
   "execution_count": null,
   "metadata": {},
   "outputs": [],
   "source": []
  }
 ],
 "metadata": {
  "kernelspec": {
   "display_name": "Python 3",
   "language": "python",
   "name": "python3"
  },
  "language_info": {
   "codemirror_mode": {
    "name": "ipython",
    "version": 3
   },
   "file_extension": ".py",
   "mimetype": "text/x-python",
   "name": "python",
   "nbconvert_exporter": "python",
   "pygments_lexer": "ipython3",
   "version": "3.7.6"
  }
 },
 "nbformat": 4,
 "nbformat_minor": 4
}
